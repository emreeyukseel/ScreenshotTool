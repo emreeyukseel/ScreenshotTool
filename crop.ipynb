{
 "cells": [
  {
   "cell_type": "code",
   "execution_count": 1,
   "metadata": {},
   "outputs": [],
   "source": [
    "import os"
   ]
  },
  {
   "cell_type": "code",
   "execution_count": 2,
   "metadata": {},
   "outputs": [
    {
     "name": "stdout",
     "output_type": "stream",
     "text": [
      "D:\\Python Projects\\Cigarette Detection\\labels\n",
      "File: 2Q__ (10).xml\n",
      "2Q__ (10).jpg\n",
      "xmin: 84\n",
      "ymin: 31\n",
      "xmax: 207\n",
      "ymax: 168\n",
      "2Q__ (10).jpg 1 84 31 207 168\n",
      "File: 2Q__(6).xml\n",
      "2Q__ (6).jpg\n",
      "xmin: 83\n",
      "ymin: 29\n",
      "xmax: 213\n",
      "ymax: 188\n",
      "2Q__ (6).jpg 1 83 29 213 188\n",
      "File: 2Q__(8).xml\n",
      "2Q__ (8).jpg\n",
      "xmin: 1\n",
      "ymin: 1\n",
      "xmax: 276\n",
      "ymax: 179\n",
      "2Q__ (8).jpg 1 1 1 276 179\n"
     ]
    }
   ],
   "source": [
    "%cd labels\n",
    "for filepath in os.listdir():\n",
    "    with open(filepath) as fp:\n",
    "        print(\"File: \"+filepath)\n",
    "#         global xmin, ymin, xmax, ymax\n",
    "        xs = fp.readlines()\n",
    "        img_name = xs[3].split(\"</path>\")[0].split(\"\\\\\")[-1]\n",
    "        print(img_name)\n",
    "        xmin = str(xs[19].split(\"<xmin>\")[1].split('<')[0])\n",
    "        ymin = str(xs[20].split(\"<ymin>\")[1].split('<')[0])\n",
    "        xmax = str(xs[21].split(\"<xmax>\")[1].split('<')[0])\n",
    "        ymax = str(xs[22].split(\"<ymax>\")[1].split('<')[0])\n",
    "        print(\"xmin: \"+xmin)\n",
    "        print(\"ymin: \"+ymin)\n",
    "        print(\"xmax: \"+xmax)\n",
    "        print(\"ymax: \"+ymax)\n",
    "        print(img_name, '1', xmin, ymin, xmax, ymax)"
   ]
  },
  {
   "cell_type": "code",
   "execution_count": null,
   "metadata": {},
   "outputs": [],
   "source": [
    "ymax"
   ]
  },
  {
   "cell_type": "code",
   "execution_count": 3,
   "metadata": {},
   "outputs": [
    {
     "name": "stdout",
     "output_type": "stream",
     "text": [
      " Volume in drive D has no label.\n",
      " Volume Serial Number is 1A95-6443\n",
      "\n",
      " Directory of D:\\Python Projects\\Cigarette Detection\\labels\n",
      "\n",
      "11/13/2019  11:19 AM    <DIR>          .\n",
      "11/13/2019  11:19 AM    <DIR>          ..\n",
      "11/12/2019  10:31 PM               573 2Q__ (10).xml\n",
      "11/12/2019  10:32 PM               556 2Q__(6).xml\n",
      "11/12/2019  10:34 PM               569 2Q__(8).xml\n",
      "               3 File(s)          1,698 bytes\n",
      "               2 Dir(s)  224,997,380,096 bytes free\n"
     ]
    }
   ],
   "source": [
    "!dir"
   ]
  },
  {
   "cell_type": "code",
   "execution_count": 4,
   "metadata": {},
   "outputs": [
    {
     "name": "stdout",
     "output_type": "stream",
     "text": [
      "D:\\Python Projects\\Cigarette Detection\\labels\n"
     ]
    }
   ],
   "source": [
    "!cd"
   ]
  }
 ],
 "metadata": {
  "kernelspec": {
   "display_name": "Python 3",
   "language": "python",
   "name": "python3"
  },
  "language_info": {
   "codemirror_mode": {
    "name": "ipython",
    "version": 3
   },
   "file_extension": ".py",
   "mimetype": "text/x-python",
   "name": "python",
   "nbconvert_exporter": "python",
   "pygments_lexer": "ipython3",
   "version": "3.7.3"
  }
 },
 "nbformat": 4,
 "nbformat_minor": 4
}
