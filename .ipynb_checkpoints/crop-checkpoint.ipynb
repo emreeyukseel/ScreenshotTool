{
 "cells": [
  {
   "cell_type": "code",
   "execution_count": 17,
   "metadata": {},
   "outputs": [],
   "source": [
    "import os"
   ]
  },
  {
   "cell_type": "code",
   "execution_count": 29,
   "metadata": {},
   "outputs": [
    {
     "name": "stdout",
     "output_type": "stream",
     "text": [
      "[WinError 2] The system cannot find the file specified: 'labels'\n",
      "D:\\Python Projects\\Cigarette Detection\\labels\n",
      "File: 2Q__ (10).xml\n",
      "xmin: 84\n",
      "ymin: 31\n",
      "xmax: 207\n",
      "ymax: 168\n",
      "File: 2Q__(6).xml\n",
      "xmin: 83\n",
      "ymin: 29\n",
      "xmax: 213\n",
      "ymax: 188\n",
      "File: 2Q__(8).xml\n",
      "xmin: 1\n",
      "ymin: 1\n",
      "xmax: 276\n",
      "ymax: 179\n"
     ]
    }
   ],
   "source": [
    "# filepath = '0.xml'\n",
    "%cd labels\n",
    "for filepath in os.listdir():\n",
    "    with open(filepath) as fp:\n",
    "        print(\"File: \"+filepath)\n",
    "        global xmin, ymin, xmax, ymax\n",
    "        xs = fp.readlines()\n",
    "        xmin = str(xs[19].split(\"<xmin>\")[1].split('<')[0])\n",
    "        ymin = str(xs[20].split(\"<ymin>\")[1].split('<')[0])\n",
    "        xmax = str(xs[21].split(\"<xmax>\")[1].split('<')[0])\n",
    "        ymax = str(xs[22].split(\"<ymax>\")[1].split('<')[0])\n",
    "        print(\"xmin: \"+xmin)\n",
    "        print(\"ymin: \"+ymin)\n",
    "        print(\"xmax: \"+xmax)\n",
    "        print(\"ymax: \"+ymax)"
   ]
  },
  {
   "cell_type": "code",
   "execution_count": 15,
   "metadata": {},
   "outputs": [
    {
     "data": {
      "text/plain": [
       "'179'"
      ]
     },
     "execution_count": 15,
     "metadata": {},
     "output_type": "execute_result"
    }
   ],
   "source": [
    "ymax"
   ]
  }
 ],
 "metadata": {
  "kernelspec": {
   "display_name": "Python 3",
   "language": "python",
   "name": "python3"
  },
  "language_info": {
   "codemirror_mode": {
    "name": "ipython",
    "version": 3
   },
   "file_extension": ".py",
   "mimetype": "text/x-python",
   "name": "python",
   "nbconvert_exporter": "python",
   "pygments_lexer": "ipython3",
   "version": "3.7.3"
  }
 },
 "nbformat": 4,
 "nbformat_minor": 4
}
